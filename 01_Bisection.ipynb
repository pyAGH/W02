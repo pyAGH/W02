{
 "cells": [
  {
   "cell_type": "code",
   "execution_count": 80,
   "metadata": {},
   "outputs": [
    {
     "name": "stdout",
     "output_type": "stream",
     "text": [
      "Requirement already satisfied: numpy in /usr/local/Cellar/jupyterlab/2.2.9_1/libexec/lib/python3.9/site-packages (1.20.1)\n",
      "\u001b[33mWARNING: You are using pip version 20.2.4; however, version 21.0.1 is available.\n",
      "You should consider upgrading via the '/usr/local/Cellar/jupyterlab/2.2.9_1/libexec/bin/python -m pip install --upgrade pip' command.\u001b[0m\n",
      "Requirement already satisfied: matplotlib in /usr/local/Cellar/jupyterlab/2.2.9_1/libexec/lib/python3.9/site-packages (3.3.4)\n",
      "Requirement already satisfied: cycler>=0.10 in /usr/local/Cellar/jupyterlab/2.2.9_1/libexec/lib/python3.9/site-packages (from matplotlib) (0.10.0)\n",
      "Requirement already satisfied: numpy>=1.15 in /usr/local/Cellar/jupyterlab/2.2.9_1/libexec/lib/python3.9/site-packages (from matplotlib) (1.20.1)\n",
      "Requirement already satisfied: pillow>=6.2.0 in /usr/local/Cellar/jupyterlab/2.2.9_1/libexec/lib/python3.9/site-packages (from matplotlib) (8.1.0)\n",
      "Requirement already satisfied: kiwisolver>=1.0.1 in /usr/local/Cellar/jupyterlab/2.2.9_1/libexec/lib/python3.9/site-packages (from matplotlib) (1.3.1)\n",
      "Requirement already satisfied: python-dateutil>=2.1 in /usr/local/Cellar/jupyterlab/2.2.9_1/libexec/lib/python3.9/site-packages (from matplotlib) (2.8.1)\n",
      "Requirement already satisfied: pyparsing!=2.0.4,!=2.1.2,!=2.1.6,>=2.0.3 in /usr/local/Cellar/jupyterlab/2.2.9_1/libexec/lib/python3.9/site-packages (from matplotlib) (2.4.7)\n",
      "Requirement already satisfied: six in /usr/local/Cellar/jupyterlab/2.2.9_1/libexec/lib/python3.9/site-packages (from cycler>=0.10->matplotlib) (1.15.0)\n",
      "\u001b[33mWARNING: You are using pip version 20.2.4; however, version 21.0.1 is available.\n",
      "You should consider upgrading via the '/usr/local/Cellar/jupyterlab/2.2.9_1/libexec/bin/python -m pip install --upgrade pip' command.\u001b[0m\n",
      "Requirement already satisfied: scipy in /usr/local/Cellar/jupyterlab/2.2.9_1/libexec/lib/python3.9/site-packages (1.6.1)\n",
      "Requirement already satisfied: numpy>=1.16.5 in /usr/local/Cellar/jupyterlab/2.2.9_1/libexec/lib/python3.9/site-packages (from scipy) (1.20.1)\n",
      "\u001b[33mWARNING: You are using pip version 20.2.4; however, version 21.0.1 is available.\n",
      "You should consider upgrading via the '/usr/local/Cellar/jupyterlab/2.2.9_1/libexec/bin/python -m pip install --upgrade pip' command.\u001b[0m\n"
     ]
    }
   ],
   "source": [
    "import sys\n",
    "!{sys.executable} -m pip install numpy\n",
    "!{sys.executable} -m pip install matplotlib\n",
    "!{sys.executable} -m pip install scipy"
   ]
  },
  {
   "cell_type": "code",
   "execution_count": 8,
   "metadata": {},
   "outputs": [],
   "source": [
    "import numpy as np\n",
    "import matplotlib.pyplot as plt"
   ]
  },
  {
   "cell_type": "markdown",
   "metadata": {},
   "source": [
    "### Definicja funkcji f(x):"
   ]
  },
  {
   "cell_type": "code",
   "execution_count": 9,
   "metadata": {},
   "outputs": [
    {
     "data": {
      "image/png": "[encoded data removed]",
      "text/plain": [
       "<Figure size 432x288 with 1 Axes>"
      ]
     },
     "metadata": {
      "needs_background": "light"
     },
     "output_type": "display_data"
    }
   ],
   "source": [
    "def fun(x):\n",
    "    return(x**3 - 2*x**2 -3)\n",
    "\n",
    "plt.figure()\n",
    "x=np.linspace(-1,5,num=100)\n",
    "y=fun(x)\n",
    "plt.plot(x,y)\n",
    "plt.grid()"
   ]
  },
  {
   "cell_type": "markdown",
   "metadata": {},
   "source": [
    "### Metoda bisekcji:"
   ]
  },
  {
   "cell_type": "code",
   "execution_count": 4,
   "metadata": {},
   "outputs": [],
   "source": [
    "def bisection(a, b, epsilon):\n",
    "    step=0\n",
    "    if fun(a)*fun(b) > 0:\n",
    "        print(\"Brak rozwiazania.\")\n",
    "    else:\n",
    "        while (b - a)/2.0 > epsilon:\n",
    "            step+=1\n",
    "            midpoint = (a + b)/2.0\n",
    "            print('Iteracja-%d, midpoint = %0.6f and f(x2) = %0.6f' % (step, midpoint, fun(midpoint)))\n",
    "            if fun(midpoint) == 0:\n",
    "                return(midpoint) #Znaleziono rozwiązanie.\n",
    "            elif fun(a)*fun(midpoint) < 0: # Warunek dla ustalenia granicy nowego przedziału\n",
    "                b = midpoint\n",
    "\n",
    "            else:\n",
    "                a = midpoint\n",
    "              \n",
    "                \n",
    "        return(midpoint)"
   ]
  },
  {
   "cell_type": "markdown",
   "metadata": {},
   "source": [
    "### Wywołanie funkcji bisekcji:"
   ]
  },
  {
   "cell_type": "code",
   "execution_count": 5,
   "metadata": {},
   "outputs": [
    {
     "name": "stdout",
     "output_type": "stream",
     "text": [
      "Iteracja-1, midpoint = 2.000000 and f(x2) = -3.000000\n",
      "Iteracja-2, midpoint = 3.500000 and f(x2) = 15.375000\n",
      "Iteracja-3, midpoint = 2.750000 and f(x2) = 2.671875\n",
      "Iteracja-4, midpoint = 2.375000 and f(x2) = -0.884766\n",
      "Iteracja-5, midpoint = 2.562500 and f(x2) = 0.693604\n",
      "Iteracja-6, midpoint = 2.468750 and f(x2) = -0.143097\n",
      "Iteracja-7, midpoint = 2.515625 and f(x2) = 0.263065\n",
      "Iteracja-8, midpoint = 2.492188 and f(x2) = 0.056976\n",
      "Iteracja-9, midpoint = 2.480469 and f(x2) = -0.043808\n",
      "Iteracja-10, midpoint = 2.486328 and f(x2) = 0.006397\n",
      "Iteracja-11, midpoint = 2.483398 and f(x2) = -0.018752\n",
      "Iteracja-12, midpoint = 2.484863 and f(x2) = -0.006190\n",
      "Iteracja-13, midpoint = 2.485596 and f(x2) = 0.000101\n",
      "Iteracja-14, midpoint = 2.485229 and f(x2) = -0.003045\n",
      "Iteracja-15, midpoint = 2.485413 and f(x2) = -0.001473\n",
      "Miejce zerowe: 2.48541259765625\n"
     ]
    }
   ],
   "source": [
    "wynik = bisection(-1, 5, 0.0001)\n",
    "\n",
    "print(\"Miejce zerowe:\", wynik)"
   ]
  },
  {
   "cell_type": "markdown",
   "metadata": {},
   "source": [
    "### Definicja funkcji bisekcji (+wykresy):"
   ]
  },
  {
   "cell_type": "code",
   "execution_count": 107,
   "metadata": {},
   "outputs": [],
   "source": [
    "def bisection(a, b, epsilon):\n",
    "    \n",
    "    plt.figure()\n",
    "    x=np.linspace(-1,5,num=100)\n",
    "    y=fun(x)\n",
    "    plt.plot(x,y)\n",
    "    plt.grid()\n",
    "    plt.scatter(a,fun(a),facecolor='blue')\n",
    "    plt.scatter(b,fun(b),facecolor='red')\n",
    "    if fun(a)*fun(b) > 0:\n",
    "        print(\"Brak rozwiazania.\")\n",
    "    else:\n",
    "        while (b - a)/2.0 > epsilon:\n",
    "            midpoint = (a + b)/2.0\n",
    "            if fun(midpoint) == 0:\n",
    "                return(midpoint) #Znaleziono rozwiązanie.\n",
    "            elif fun(a)*fun(midpoint) < 0: # Warunek dla ustalenai granicy nowego przedziału\n",
    "                b = midpoint\n",
    "                plt.scatter(b,fun(b),facecolor='red')\n",
    "            else:\n",
    "                a = midpoint\n",
    "                plt.scatter(a,fun(a),facecolor='blue')\n",
    "                \n",
    "                \n",
    "        return(midpoint)"
   ]
  },
  {
   "cell_type": "code",
   "execution_count": 108,
   "metadata": {},
   "outputs": [
    {
     "name": "stdout",
     "output_type": "stream",
     "text": [
      "Miejce zerowe: 2.48541259765625\n"
     ]
    },
    {
     "data": {
      "image/png": "[encoded data removed]",
      "text/plain": [
       "<Figure size 432x288 with 1 Axes>"
      ]
     },
     "metadata": {
      "needs_background": "light"
     },
     "output_type": "display_data"
    }
   ],
   "source": [
    "wynik = bisection(-1, 5, 0.0001)\n",
    "\n",
    "print(\"Miejce zerowe:\", wynik)"
   ]
  },
  {
   "cell_type": "markdown",
   "metadata": {},
   "source": [
    "### Zastosowanie funkcji root z pakietu numpy"
   ]
  },
  {
   "cell_type": "code",
   "execution_count": 10,
   "metadata": {},
   "outputs": [
    {
     "name": "stdout",
     "output_type": "stream",
     "text": [
      "[ 2.485584+0.j         -0.242792+1.07145315j -0.242792-1.07145315j]\n"
     ]
    }
   ],
   "source": [
    "coef=[1,-2,0,-3]\n",
    "print(np.roots(coef))"
   ]
  }
 ],
 "metadata": {
  "kernelspec": {
   "display_name": "Python 3",
   "language": "python",
   "name": "python3"
  },
  "language_info": {
   "codemirror_mode": {
    "name": "ipython",
    "version": 3
   },
   "file_extension": ".py",
   "mimetype": "text/x-python",
   "name": "python",
   "nbconvert_exporter": "python",
   "pygments_lexer": "ipython3",
   "version": "3.9.0"
  }
 },
 "nbformat": 4,
 "nbformat_minor": 4
}
