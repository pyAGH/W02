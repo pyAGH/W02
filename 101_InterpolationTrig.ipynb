{
 "cells": [
  {
   "cell_type": "markdown",
   "metadata": {},
   "source": [
    "# Interpolacja trygonometryczna"
   ]
  },
  {
   "cell_type": "code",
   "execution_count": null,
   "metadata": {},
   "outputs": [],
   "source": []
  },
  {
   "cell_type": "code",
   "execution_count": 3,
   "metadata": {},
   "outputs": [],
   "source": [
    "import math\n",
    "import numpy as np\n",
    "import matplotlib.pyplot as plt"
   ]
  },
  {
   "cell_type": "markdown",
   "metadata": {},
   "source": [
    "### Określenie węzłów interpolacji (xi,yi)"
   ]
  },
  {
   "cell_type": "code",
   "execution_count": 4,
   "metadata": {},
   "outputs": [
    {
     "name": "stdout",
     "output_type": "stream",
     "text": [
      "x= [ 0  1  2  3  4  5  6  7  8  9 10 11 12 13 14 15 16 17 18 19]\n"
     ]
    }
   ],
   "source": [
    "x=np.arange(0,20)\n",
    "print(\"x=\",x)"
   ]
  },
  {
   "cell_type": "markdown",
   "metadata": {},
   "source": [
    "$$x_{k}=k\\cdot \\frac{2\\pi}{n} \\ \\ \\ \\ \\ k=0,1,...,(n-1)$$"
   ]
  },
  {
   "cell_type": "code",
   "execution_count": 5,
   "metadata": {},
   "outputs": [
    {
     "name": "stdout",
     "output_type": "stream",
     "text": [
      "xk= [0.         0.31415927 0.62831853 0.9424778  1.25663706 1.57079633\n",
      " 1.88495559 2.19911486 2.51327412 2.82743339 3.14159265 3.45575192\n",
      " 3.76991118 4.08407045 4.39822972 4.71238898 5.02654825 5.34070751\n",
      " 5.65486678 5.96902604]\n"
     ]
    }
   ],
   "source": [
    "xk=(x*2*math.pi)/(len(x))\n",
    "print(\"xk=\",xk)"
   ]
  },
  {
   "cell_type": "code",
   "execution_count": 6,
   "metadata": {},
   "outputs": [
    {
     "name": "stdout",
     "output_type": "stream",
     "text": [
      "yk= [ 0.00000000e+00  5.44131095e-01  9.68207859e-01  1.18943960e+00\n",
      "  1.18617062e+00  1.00000000e+00  7.15942415e-01  4.28594388e-01\n",
      "  2.07362646e-01  7.39028935e-02  2.44929360e-17 -7.39028935e-02\n",
      " -2.07362646e-01 -4.28594388e-01 -7.15942415e-01 -1.00000000e+00\n",
      " -1.18617062e+00 -1.18943960e+00 -9.68207859e-01 -5.44131095e-01]\n"
     ]
    }
   ],
   "source": [
    "#yk=np.array([1,1,1,1,1,1,1,2,2,2,2,2,1,1,1,1,1,1,1,1])\n",
    "#yk=np.array([0,1,2,3,4,5,6,7,8,9])\n",
    "#yk=np.array([1,1,1,1,1,1,1,1,1,1])\n",
    "#yk=np.sin(xk)+0.4*np.sin(2*xk)\n",
    "yk=np.sin(xk)+0.4*np.sin(2*xk)\n",
    "print(\"yk=\",yk)\n",
    "n=len(xk)\n",
    "m=int(n/2)"
   ]
  },
  {
   "cell_type": "code",
   "execution_count": null,
   "metadata": {},
   "outputs": [],
   "source": []
  },
  {
   "cell_type": "markdown",
   "metadata": {},
   "source": [
    "### Prezentacja graficzna węzłów interpolacji"
   ]
  },
  {
   "cell_type": "code",
   "execution_count": 7,
   "metadata": {},
   "outputs": [
    {
     "data": {
      "text/plain": [
       "<matplotlib.collections.PathCollection at 0x11be4ab80>"
      ]
     },
     "execution_count": 7,
     "metadata": {},
     "output_type": "execute_result"
    },
    {
     "data": {
      "image/png": "[encoded data removed]",
      "text/plain": [
       "<Figure size 432x288 with 1 Axes>"
      ]
     },
     "metadata": {
      "needs_background": "light"
     },
     "output_type": "display_data"
    }
   ],
   "source": [
    "plt.figure()\n",
    "plt.grid()\n",
    "plt.xlabel(\"x\")\n",
    "plt.ylabel(\"y\")\n",
    "plt.scatter(xk,yk)"
   ]
  },
  {
   "cell_type": "code",
   "execution_count": null,
   "metadata": {},
   "outputs": [],
   "source": []
  },
  {
   "cell_type": "markdown",
   "metadata": {},
   "source": [
    "### W przypadku parzystej liczby węzłów interpolacji:"
   ]
  },
  {
   "cell_type": "markdown",
   "metadata": {},
   "source": [
    "$$m=\\frac{n}{2} $$"
   ]
  },
  {
   "cell_type": "markdown",
   "metadata": {},
   "source": [
    "$$F(x)=\\frac{A_{0}}{2} +\\sum^{m-1}_{k=1} [A_{k}\\cdot cos(k\\cdot x)+B_{k}\\cdot sin(k\\cdot x)]+\\frac{A_{m}}{2} \\cdot cos(m\\cdot x)$$"
   ]
  },
  {
   "cell_type": "markdown",
   "metadata": {},
   "source": [
    "### W przypadku nieparzystej liczby węzłów interpolacji:"
   ]
  },
  {
   "cell_type": "markdown",
   "metadata": {},
   "source": [
    "$$m=\\frac{n-1}{2} $$"
   ]
  },
  {
   "cell_type": "markdown",
   "metadata": {},
   "source": [
    "$$F(x)=\\frac{A_{0}}{2} +\\sum^{m}_{k=1} [A_{k}\\cdot cos(k\\cdot x)+B_{k}\\cdot sin(k\\cdot x)]$$"
   ]
  },
  {
   "cell_type": "markdown",
   "metadata": {},
   "source": [
    "### Dla obu przypadków:"
   ]
  },
  {
   "cell_type": "markdown",
   "metadata": {},
   "source": [
    "$$A_{j}=\\frac{2}{n} \\sum^{n-1}_{k=0} [f(x_{k})\\cdot cos(j\\cdot x_{k})]$$"
   ]
  },
  {
   "cell_type": "markdown",
   "metadata": {},
   "source": [
    "$$B_{j}=\\frac{2}{n} \\sum^{n-1}_{k=0} [f(x_{k})\\cdot sin(j\\cdot x_{k})]$$"
   ]
  },
  {
   "cell_type": "markdown",
   "metadata": {},
   "source": [
    "### Funkcja wyznaczająca współczynniki Aj, Bj:"
   ]
  },
  {
   "cell_type": "code",
   "execution_count": 8,
   "metadata": {},
   "outputs": [],
   "source": [
    "def f_wsp(xk,yk):\n",
    "    n=len(xk)\n",
    "    m=int(n/2)\n",
    "    A=np.zeros(m+1)\n",
    "    B=np.zeros(m+1)\n",
    "    for i in range(0,m+1):\n",
    "        A[i]=0\n",
    "        B[i]=0\n",
    "        for j in range(0,n):\n",
    "                A[i]+=yk[j]*math.cos(i*xk[j])\n",
    "                B[i]+=yk[j]*math.sin(i*xk[j])\n",
    "        A[i]*=(2/n)\n",
    "        B[i]*=(2/n)\n",
    "    return A,B"
   ]
  },
  {
   "cell_type": "code",
   "execution_count": 11,
   "metadata": {},
   "outputs": [
    {
     "name": "stdout",
     "output_type": "stream",
     "text": [
      "A=\n",
      " [-3.33066907e-17  2.22044605e-17  4.99600361e-17  2.77555756e-17\n",
      "  1.11022302e-17  5.92949077e-16 -3.96904731e-16 -7.77156117e-17\n",
      "  5.55111512e-18  4.44089210e-17  0.00000000e+00]\n",
      "B=\n",
      " [ 0.00000000e+00  1.00000000e+00  4.00000000e-01 -3.44169138e-16\n",
      " -3.33066907e-17 -2.22044605e-17  4.77395901e-16  2.77555756e-17\n",
      " -1.11022302e-17 -3.96904731e-16 -3.53129744e-17]\n"
     ]
    }
   ],
   "source": [
    "A,B=f_wsp(xk,yk)\n",
    "print(\"A=\\n\",A)\n",
    "print(\"B=\\n\",B)"
   ]
  },
  {
   "cell_type": "code",
   "execution_count": null,
   "metadata": {},
   "outputs": [],
   "source": []
  },
  {
   "cell_type": "markdown",
   "metadata": {},
   "source": [
    "### Wyznaczenie wartości trygonometrycznego wielomianu interpolacyjnego:"
   ]
  },
  {
   "cell_type": "code",
   "execution_count": 12,
   "metadata": {},
   "outputs": [],
   "source": [
    "x=np.linspace(0,4*math.pi,num=100)\n",
    "w=np.zeros(len(x))"
   ]
  },
  {
   "cell_type": "code",
   "execution_count": null,
   "metadata": {},
   "outputs": [],
   "source": []
  },
  {
   "cell_type": "code",
   "execution_count": 13,
   "metadata": {},
   "outputs": [
    {
     "data": {
      "image/png": "[encoded data removed]",
      "text/plain": [
       "<Figure size 432x288 with 1 Axes>"
      ]
     },
     "metadata": {
      "needs_background": "light"
     },
     "output_type": "display_data"
    }
   ],
   "source": [
    "w=np.zeros(len(x))\n",
    "m=int(len(xk)/2)\n",
    "\n",
    "if n%2==0:\n",
    "    for k in range(0,len(x)):   \n",
    "        for i in range(1,m):\n",
    "            w[k]=w[k]+A[i]*math.cos(i*x[k])+B[i]*math.sin(i*x[k])\n",
    "        w[k]=w[k]+(A[m]/2)*math.cos(m*x[k])+A[0]/2\n",
    "if n%2==1:\n",
    "    for k in range(0,len(x)):   \n",
    "        for i in range(1,m+1):\n",
    "            w[k]=w[k]+A[i]*math.cos(i*x[k])+B[i]*math.sin(i*x[k])\n",
    "        w[k]=w[k]+A[0]/2\n",
    "        \n",
    "plt.figure()\n",
    "plt.plot(x,w)\n",
    "plt.scatter(xk,yk,color=\"r\")\n",
    "plt.xlabel(\"x\")\n",
    "plt.ylabel(\"y\")\n",
    "plt.grid()\n",
    "plt.show()"
   ]
  }
 ],
 "metadata": {
  "kernelspec": {
   "display_name": "Python 3",
   "language": "python",
   "name": "python3"
  },
  "language_info": {
   "codemirror_mode": {
    "name": "ipython",
    "version": 3
   },
   "file_extension": ".py",
   "mimetype": "text/x-python",
   "name": "python",
   "nbconvert_exporter": "python",
   "pygments_lexer": "ipython3",
   "version": "3.9.0"
  }
 },
 "nbformat": 4,
 "nbformat_minor": 4
}
