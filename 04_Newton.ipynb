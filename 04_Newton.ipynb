{
 "cells": [
  {
   "cell_type": "code",
   "execution_count": 80,
   "metadata": {},
   "outputs": [
    {
     "name": "stdout",
     "output_type": "stream",
     "text": [
      "Requirement already satisfied: numpy in /usr/local/Cellar/jupyterlab/2.2.9_1/libexec/lib/python3.9/site-packages (1.20.1)\n",
      "\u001b[33mWARNING: You are using pip version 20.2.4; however, version 21.0.1 is available.\n",
      "You should consider upgrading via the '/usr/local/Cellar/jupyterlab/2.2.9_1/libexec/bin/python -m pip install --upgrade pip' command.\u001b[0m\n",
      "Requirement already satisfied: matplotlib in /usr/local/Cellar/jupyterlab/2.2.9_1/libexec/lib/python3.9/site-packages (3.3.4)\n",
      "Requirement already satisfied: cycler>=0.10 in /usr/local/Cellar/jupyterlab/2.2.9_1/libexec/lib/python3.9/site-packages (from matplotlib) (0.10.0)\n",
      "Requirement already satisfied: numpy>=1.15 in /usr/local/Cellar/jupyterlab/2.2.9_1/libexec/lib/python3.9/site-packages (from matplotlib) (1.20.1)\n",
      "Requirement already satisfied: pillow>=6.2.0 in /usr/local/Cellar/jupyterlab/2.2.9_1/libexec/lib/python3.9/site-packages (from matplotlib) (8.1.0)\n",
      "Requirement already satisfied: kiwisolver>=1.0.1 in /usr/local/Cellar/jupyterlab/2.2.9_1/libexec/lib/python3.9/site-packages (from matplotlib) (1.3.1)\n",
      "Requirement already satisfied: python-dateutil>=2.1 in /usr/local/Cellar/jupyterlab/2.2.9_1/libexec/lib/python3.9/site-packages (from matplotlib) (2.8.1)\n",
      "Requirement already satisfied: pyparsing!=2.0.4,!=2.1.2,!=2.1.6,>=2.0.3 in /usr/local/Cellar/jupyterlab/2.2.9_1/libexec/lib/python3.9/site-packages (from matplotlib) (2.4.7)\n",
      "Requirement already satisfied: six in /usr/local/Cellar/jupyterlab/2.2.9_1/libexec/lib/python3.9/site-packages (from cycler>=0.10->matplotlib) (1.15.0)\n",
      "\u001b[33mWARNING: You are using pip version 20.2.4; however, version 21.0.1 is available.\n",
      "You should consider upgrading via the '/usr/local/Cellar/jupyterlab/2.2.9_1/libexec/bin/python -m pip install --upgrade pip' command.\u001b[0m\n",
      "Requirement already satisfied: scipy in /usr/local/Cellar/jupyterlab/2.2.9_1/libexec/lib/python3.9/site-packages (1.6.1)\n",
      "Requirement already satisfied: numpy>=1.16.5 in /usr/local/Cellar/jupyterlab/2.2.9_1/libexec/lib/python3.9/site-packages (from scipy) (1.20.1)\n",
      "\u001b[33mWARNING: You are using pip version 20.2.4; however, version 21.0.1 is available.\n",
      "You should consider upgrading via the '/usr/local/Cellar/jupyterlab/2.2.9_1/libexec/bin/python -m pip install --upgrade pip' command.\u001b[0m\n"
     ]
    }
   ],
   "source": [
    "import sys\n",
    "!{sys.executable} -m pip install numpy\n",
    "!{sys.executable} -m pip install matplotlib\n",
    "!{sys.executable} -m pip install scipy"
   ]
  },
  {
   "cell_type": "code",
   "execution_count": 62,
   "metadata": {},
   "outputs": [],
   "source": [
    "import matplotlib.pyplot as plt\n",
    "import numpy as np"
   ]
  },
  {
   "cell_type": "markdown",
   "metadata": {},
   "source": [
    "### Definicja funkcji f(x) oraz f'(x):"
   ]
  },
  {
   "cell_type": "code",
   "execution_count": 61,
   "metadata": {},
   "outputs": [
    {
     "data": {
      "image/png": "[encoded data removed]",
      "text/plain": [
       "<Figure size 432x288 with 1 Axes>"
      ]
     },
     "metadata": {
      "needs_background": "light"
     },
     "output_type": "display_data"
    }
   ],
   "source": [
    "def f(x):\n",
    "    return x**2 - 9\n",
    "\n",
    "def dfdx(x):\n",
    "    return 2*x\n",
    "\n",
    "plt.figure()\n",
    "x=np.linspace(-1,5,num=100)\n",
    "y=f(x)\n",
    "plt.plot(x,y)\n",
    "plt.grid()\n"
   ]
  },
  {
   "cell_type": "markdown",
   "metadata": {},
   "source": [
    "### Definicja funkcji regula falsi:"
   ]
  },
  {
   "cell_type": "markdown",
   "metadata": {},
   "source": [
    "$$x_{1}=a-\\frac{f(a)}{f(b)-f(a)} (b-a)$$"
   ]
  },
  {
   "cell_type": "code",
   "execution_count": 67,
   "metadata": {},
   "outputs": [
    {
     "name": "stdout",
     "output_type": "stream",
     "text": [
      "Number of function calls: 17\n",
      "A solution is: 3.000001\n"
     ]
    }
   ],
   "source": [
    "def Newton(f, dfdx, x, eps):\n",
    "    f_value = f(x)\n",
    "    iteration_counter = 0\n",
    "    while abs(f_value) > eps and iteration_counter < 100:\n",
    "        try:\n",
    "            x = x - float(f_value)/dfdx(x)\n",
    "        except ZeroDivisionError:\n",
    "            print (\"Error! - derivative zero for x = \", x)\n",
    "            sys.exit(1)     # Abort with error\n",
    "\n",
    "        f_value = f(x)\n",
    "        iteration_counter += 1\n",
    "\n",
    "    # Here, either a solution is found, or too many iterations\n",
    "    if abs(f_value) > eps:\n",
    "        iteration_counter = -1\n",
    "    return x, iteration_counter\n",
    "\n",
    "\n",
    "\n",
    "solution, no_iterations = Newton(f, dfdx, x=100, eps=1.0e-2)\n",
    "\n",
    "if no_iterations > 0:    # Solution found\n",
    "    print(\"Number of function calls: %d\" % (1 + 2*no_iterations))\n",
    "    print(\"A solution is: %f\" % (solution))\n",
    "else:\n",
    "    print(\"Solution not found!\")"
   ]
  },
  {
   "cell_type": "markdown",
   "metadata": {},
   "source": [
    "### Wywołanie funkcji regula falsi:"
   ]
  },
  {
   "cell_type": "code",
   "execution_count": 46,
   "metadata": {},
   "outputs": [
    {
     "name": "stdout",
     "output_type": "stream",
     "text": [
      "\n",
      " Iteracje metody Regula Falsi\n",
      "Iteracja-1, x2 = 3.325581 and f(x2) =         11.660256\n",
      "Iteracja-2, x2 = 3.002011 and f(x2) =         6.030194\n",
      "Iteracja-3, x2 = 2.819378 and f(x2) =         3.513149\n",
      "Iteracja-4, x2 = 2.707519 and f(x2) =         2.186585\n",
      "Iteracja-5, x2 = 2.635718 and f(x2) =         1.416339\n",
      "Iteracja-6, x2 = 2.588276 and f(x2) =         0.940963\n",
      "Iteracja-7, x2 = 2.556340 and f(x2) =         0.635612\n",
      "Iteracja-8, x2 = 2.534575 and f(x2) =         0.434151\n",
      "Iteracja-9, x2 = 2.519619 and f(x2) =         0.298791\n",
      "Iteracja-10, x2 = 2.509283 and f(x2) =         0.206700\n",
      "Iteracja-11, x2 = 2.502112 and f(x2) =         0.143503\n",
      "Iteracja-12, x2 = 2.497123 and f(x2) =         0.099875\n",
      "Iteracja-13, x2 = 2.493647 and f(x2) =         0.069630\n",
      "Iteracja-14, x2 = 2.491220 and f(x2) =         0.048602\n",
      "Iteracja-15, x2 = 2.489526 and f(x2) =         0.033953\n",
      "Iteracja-16, x2 = 2.488341 and f(x2) =         0.023733\n",
      "Iteracja-17, x2 = 2.487513 and f(x2) =         0.016596\n",
      "Iteracja-18, x2 = 2.486934 and f(x2) =         0.011609\n",
      "Iteracja-19, x2 = 2.486529 and f(x2) =         0.008122\n",
      "Iteracja-20, x2 = 2.486245 and f(x2) =         0.005683\n",
      "Iteracja-21, x2 = 2.486047 and f(x2) =         0.003977\n",
      "Iteracja-22, x2 = 2.485908 and f(x2) =         0.002783\n",
      "Iteracja-23, x2 = 2.485811 and f(x2) =         0.001948\n",
      "Iteracja-24, x2 = 2.485743 and f(x2) =         0.001363\n",
      "Iteracja-25, x2 = 2.485695 and f(x2) =         0.000954\n",
      "Iteracja-26, x2 = 2.485662 and f(x2) =         0.000668\n",
      "Iteracja-27, x2 = 2.485638 and f(x2) =         0.000467\n",
      "Iteracja-28, x2 = 2.485622 and f(x2) =         0.000327\n",
      "Iteracja-29, x2 = 2.485611 and f(x2) =         0.000229\n",
      "Iteracja-30, x2 = 2.485603 and f(x2) =         0.000160\n",
      "Iteracja-31, x2 = 2.485597 and f(x2) =         0.000112\n",
      "Iteracja-32, x2 = 2.485593 and f(x2) =         0.000079\n",
      "\n",
      "Miejsce zerowe: 2.48559314\n"
     ]
    },
    {
     "data": {
      "image/png": "[encoded data removed]",
      "text/plain": [
       "<Figure size 432x288 with 1 Axes>"
      ]
     },
     "metadata": {
      "needs_background": "light"
     },
     "output_type": "display_data"
    }
   ],
   "source": [
    "wynik = regulaFalsi(4, 5, 0.0001)"
   ]
  },
  {
   "cell_type": "code",
   "execution_count": 68,
   "metadata": {},
   "outputs": [
    {
     "name": "stdout",
     "output_type": "stream",
     "text": [
      "[-3.  3.]\n"
     ]
    }
   ],
   "source": [
    "coef=[1,0,-9]\n",
    "print(np.roots(coef))"
   ]
  },
  {
   "cell_type": "code",
   "execution_count": null,
   "metadata": {},
   "outputs": [],
   "source": []
  }
 ],
 "metadata": {
  "kernelspec": {
   "display_name": "Python 3",
   "language": "python",
   "name": "python3"
  },
  "language_info": {
   "codemirror_mode": {
    "name": "ipython",
    "version": 3
   },
   "file_extension": ".py",
   "mimetype": "text/x-python",
   "name": "python",
   "nbconvert_exporter": "python",
   "pygments_lexer": "ipython3",
   "version": "3.9.0"
  }
 },
 "nbformat": 4,
 "nbformat_minor": 4
}
