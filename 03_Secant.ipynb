{
 "cells": [
  {
   "cell_type": "code",
   "execution_count": 80,
   "metadata": {},
   "outputs": [
    {
     "name": "stdout",
     "output_type": "stream",
     "text": [
      "Requirement already satisfied: numpy in /usr/local/Cellar/jupyterlab/2.2.9_1/libexec/lib/python3.9/site-packages (1.20.1)\n",
      "\u001b[33mWARNING: You are using pip version 20.2.4; however, version 21.0.1 is available.\n",
      "You should consider upgrading via the '/usr/local/Cellar/jupyterlab/2.2.9_1/libexec/bin/python -m pip install --upgrade pip' command.\u001b[0m\n",
      "Requirement already satisfied: matplotlib in /usr/local/Cellar/jupyterlab/2.2.9_1/libexec/lib/python3.9/site-packages (3.3.4)\n",
      "Requirement already satisfied: cycler>=0.10 in /usr/local/Cellar/jupyterlab/2.2.9_1/libexec/lib/python3.9/site-packages (from matplotlib) (0.10.0)\n",
      "Requirement already satisfied: numpy>=1.15 in /usr/local/Cellar/jupyterlab/2.2.9_1/libexec/lib/python3.9/site-packages (from matplotlib) (1.20.1)\n",
      "Requirement already satisfied: pillow>=6.2.0 in /usr/local/Cellar/jupyterlab/2.2.9_1/libexec/lib/python3.9/site-packages (from matplotlib) (8.1.0)\n",
      "Requirement already satisfied: kiwisolver>=1.0.1 in /usr/local/Cellar/jupyterlab/2.2.9_1/libexec/lib/python3.9/site-packages (from matplotlib) (1.3.1)\n",
      "Requirement already satisfied: python-dateutil>=2.1 in /usr/local/Cellar/jupyterlab/2.2.9_1/libexec/lib/python3.9/site-packages (from matplotlib) (2.8.1)\n",
      "Requirement already satisfied: pyparsing!=2.0.4,!=2.1.2,!=2.1.6,>=2.0.3 in /usr/local/Cellar/jupyterlab/2.2.9_1/libexec/lib/python3.9/site-packages (from matplotlib) (2.4.7)\n",
      "Requirement already satisfied: six in /usr/local/Cellar/jupyterlab/2.2.9_1/libexec/lib/python3.9/site-packages (from cycler>=0.10->matplotlib) (1.15.0)\n",
      "\u001b[33mWARNING: You are using pip version 20.2.4; however, version 21.0.1 is available.\n",
      "You should consider upgrading via the '/usr/local/Cellar/jupyterlab/2.2.9_1/libexec/bin/python -m pip install --upgrade pip' command.\u001b[0m\n",
      "Requirement already satisfied: scipy in /usr/local/Cellar/jupyterlab/2.2.9_1/libexec/lib/python3.9/site-packages (1.6.1)\n",
      "Requirement already satisfied: numpy>=1.16.5 in /usr/local/Cellar/jupyterlab/2.2.9_1/libexec/lib/python3.9/site-packages (from scipy) (1.20.1)\n",
      "\u001b[33mWARNING: You are using pip version 20.2.4; however, version 21.0.1 is available.\n",
      "You should consider upgrading via the '/usr/local/Cellar/jupyterlab/2.2.9_1/libexec/bin/python -m pip install --upgrade pip' command.\u001b[0m\n"
     ]
    }
   ],
   "source": [
    "import sys\n",
    "!{sys.executable} -m pip install numpy\n",
    "!{sys.executable} -m pip install matplotlib\n",
    "!{sys.executable} -m pip install scipy"
   ]
  },
  {
   "cell_type": "code",
   "execution_count": 5,
   "metadata": {},
   "outputs": [],
   "source": [
    "import matplotlib.pyplot as plt\n",
    "import numpy as np"
   ]
  },
  {
   "cell_type": "markdown",
   "metadata": {},
   "source": [
    "### Definicja funkcji f(x):"
   ]
  },
  {
   "cell_type": "code",
   "execution_count": 6,
   "metadata": {},
   "outputs": [
    {
     "data": {
      "image/png": "[encoded data removed]",
      "text/plain": [
       "<Figure size 432x288 with 1 Axes>"
      ]
     },
     "metadata": {
      "needs_background": "light"
     },
     "output_type": "display_data"
    }
   ],
   "source": [
    "def fun(x):\n",
    "    return(x**3 - 2*x**2 -3)\n",
    "\n",
    "plt.figure()\n",
    "x=np.linspace(-2,3,num=100)\n",
    "y=fun(x)\n",
    "plt.plot(x,y)\n",
    "plt.grid()\n",
    "step=0\n",
    "\n"
   ]
  },
  {
   "cell_type": "markdown",
   "metadata": {},
   "source": [
    "### Definicja metody siecznych:"
   ]
  },
  {
   "cell_type": "markdown",
   "metadata": {},
   "source": [
    "$$x_{n+1}=x_{n}-\\frac{f(x_{n})(x_{n}-x_{n-1})}{f(x_{n})-f(x_{n-1})}$$"
   ]
  },
  {
   "cell_type": "code",
   "execution_count": 16,
   "metadata": {},
   "outputs": [
    {
     "name": "stdout",
     "output_type": "stream",
     "text": [
      "Iteracja-0, x2 = 1.000000 and f(x2) =         -4.000000\n",
      "Iteracja-1, x2 = 5.000000 and f(x2) =         72.000000\n",
      "Iteracja-2, x2 = 1.210526 and f(x2) =         -4.156874\n",
      "Iteracja-3, x2 = 1.417367 and f(x2) =         -4.170468\n",
      "Iteracja-4, x2 = -62.038133 and f(x2) =         -246468.477668\n",
      "Iteracja-5, x2 = 1.418441 and f(x2) =         -4.170082\n",
      "Iteracja-6, x2 = 1.419515 and f(x2) =         -4.169691\n",
      "Iteracja-7, x2 = 12.856373 and f(x2) =         1791.410225\n",
      "Iteracja-8, x2 = 1.446073 and f(x2) =         -4.158332\n",
      "Iteracja-9, x2 = 1.472498 and f(x2) =         -4.143756\n",
      "Iteracja-10, x2 = 8.985063 and f(x2) =         560.913661\n",
      "Iteracja-11, x2 = 1.527590 and f(x2) =         -4.102383\n",
      "Iteracja-12, x2 = 1.581737 and f(x2) =         -4.046449\n",
      "Iteracja-13, x2 = 5.498862 and f(x2) =         102.796793\n",
      "Iteracja-14, x2 = 1.730089 and f(x2) =         -3.807900\n",
      "Iteracja-15, x2 = 1.864709 and f(x2) =         -3.470426\n",
      "Iteracja-16, x2 = 3.249079 and f(x2) =         10.185914\n",
      "Iteracja-17, x2 = 2.216513 and f(x2) =         -1.936288\n",
      "Iteracja-18, x2 = 2.381445 and f(x2) =         -0.836717\n",
      "Iteracja-19, x2 = 2.506950 and f(x2) =         0.186081\n",
      "Iteracja-20, x2 = 2.484117 and f(x2) =         -0.012595\n",
      "Iteracja-21, x2 = 2.485564 and f(x2) =         -0.000170\n",
      "Iteracja-22, x2 = 2.485584 and f(x2) =         0.000000\n",
      "Iteracja-23, x2 = 2.485584 and f(x2) =         -0.000000\n",
      "Iteracja-24, x2 = 2.485584 and f(x2) =         0.000000\n",
      "Iteracja-25, x2 = 2.485584 and f(x2) =         0.000000\n",
      "Iteracje przerwane. Odnaleziono dokładny pierwiastek\n",
      "Pierwiastek:  2.4855839976886003\n"
     ]
    },
    {
     "data": {
      "image/png": "[encoded data removed]",
      "text/plain": [
       "<Figure size 432x288 with 1 Axes>"
      ]
     },
     "metadata": {
      "needs_background": "light"
     },
     "output_type": "display_data"
    }
   ],
   "source": [
    "def secant_method(f, x0, x1, iterations):\n",
    "    \n",
    "    plt.figure()\n",
    "    x=np.linspace(-2,4,num=100)\n",
    "    y=fun(x)\n",
    "    plt.plot(x,y)\n",
    "    plt.grid()\n",
    "    step=0\n",
    "    plt.scatter(x0,fun(x0))\n",
    "    plt.scatter(x1,fun(x1))\n",
    "\n",
    "    for i in range(iterations):\n",
    "        print('Iteracja-%d, x2 = %0.6f and f(x2) = \\\n",
    "        %0.6f'% (step, x1, f(x1)))\n",
    "        step+=1\n",
    "        \n",
    "        if f(x1)==f(x0): \n",
    "            print(\"Iteracje przerwane. Odnaleziono dokładny pierwiastek\")\n",
    "            return x2\n",
    "        else:\n",
    "            x2 = x1 - f(x1) * (x1 - x0) / float(f(x1) - f(x0))\n",
    "            \n",
    "            plt.scatter(x2,fun(x2))\n",
    "            plt.scatter(x1,fun(x1))\n",
    "            plt.xlim([-2,4])\n",
    "            plt.ylim([-20,5])\n",
    "            x0, x1 = x1, x2\n",
    "    return x2\n",
    "\n",
    "root = secant_method(fun, -1, 1, 200)\n",
    "\n",
    "print(\"Pierwiastek: \",root)"
   ]
  },
  {
   "cell_type": "markdown",
   "metadata": {},
   "source": [
    "### Zastosowanie funkcji root z pakietu numpy"
   ]
  },
  {
   "cell_type": "code",
   "execution_count": 19,
   "metadata": {},
   "outputs": [
    {
     "name": "stdout",
     "output_type": "stream",
     "text": [
      "[ 2.485584+0.j         -0.242792+1.07145315j -0.242792-1.07145315j]\n"
     ]
    }
   ],
   "source": [
    "coef=[1,-2,0,-3]\n",
    "print(np.roots(coef))"
   ]
  },
  {
   "cell_type": "code",
   "execution_count": null,
   "metadata": {},
   "outputs": [],
   "source": []
  }
 ],
 "metadata": {
  "kernelspec": {
   "display_name": "Python 3",
   "language": "python",
   "name": "python3"
  },
  "language_info": {
   "codemirror_mode": {
    "name": "ipython",
    "version": 3
   },
   "file_extension": ".py",
   "mimetype": "text/x-python",
   "name": "python",
   "nbconvert_exporter": "python",
   "pygments_lexer": "ipython3",
   "version": "3.9.0"
  }
 },
 "nbformat": 4,
 "nbformat_minor": 4
}
