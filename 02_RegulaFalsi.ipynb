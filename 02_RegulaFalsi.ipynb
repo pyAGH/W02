{
 "cells": [
  {
   "cell_type": "code",
   "execution_count": 80,
   "metadata": {},
   "outputs": [
    {
     "name": "stdout",
     "output_type": "stream",
     "text": [
      "Requirement already satisfied: numpy in /usr/local/Cellar/jupyterlab/2.2.9_1/libexec/lib/python3.9/site-packages (1.20.1)\n",
      "\u001b[33mWARNING: You are using pip version 20.2.4; however, version 21.0.1 is available.\n",
      "You should consider upgrading via the '/usr/local/Cellar/jupyterlab/2.2.9_1/libexec/bin/python -m pip install --upgrade pip' command.\u001b[0m\n",
      "Requirement already satisfied: matplotlib in /usr/local/Cellar/jupyterlab/2.2.9_1/libexec/lib/python3.9/site-packages (3.3.4)\n",
      "Requirement already satisfied: cycler>=0.10 in /usr/local/Cellar/jupyterlab/2.2.9_1/libexec/lib/python3.9/site-packages (from matplotlib) (0.10.0)\n",
      "Requirement already satisfied: numpy>=1.15 in /usr/local/Cellar/jupyterlab/2.2.9_1/libexec/lib/python3.9/site-packages (from matplotlib) (1.20.1)\n",
      "Requirement already satisfied: pillow>=6.2.0 in /usr/local/Cellar/jupyterlab/2.2.9_1/libexec/lib/python3.9/site-packages (from matplotlib) (8.1.0)\n",
      "Requirement already satisfied: kiwisolver>=1.0.1 in /usr/local/Cellar/jupyterlab/2.2.9_1/libexec/lib/python3.9/site-packages (from matplotlib) (1.3.1)\n",
      "Requirement already satisfied: python-dateutil>=2.1 in /usr/local/Cellar/jupyterlab/2.2.9_1/libexec/lib/python3.9/site-packages (from matplotlib) (2.8.1)\n",
      "Requirement already satisfied: pyparsing!=2.0.4,!=2.1.2,!=2.1.6,>=2.0.3 in /usr/local/Cellar/jupyterlab/2.2.9_1/libexec/lib/python3.9/site-packages (from matplotlib) (2.4.7)\n",
      "Requirement already satisfied: six in /usr/local/Cellar/jupyterlab/2.2.9_1/libexec/lib/python3.9/site-packages (from cycler>=0.10->matplotlib) (1.15.0)\n",
      "\u001b[33mWARNING: You are using pip version 20.2.4; however, version 21.0.1 is available.\n",
      "You should consider upgrading via the '/usr/local/Cellar/jupyterlab/2.2.9_1/libexec/bin/python -m pip install --upgrade pip' command.\u001b[0m\n",
      "Requirement already satisfied: scipy in /usr/local/Cellar/jupyterlab/2.2.9_1/libexec/lib/python3.9/site-packages (1.6.1)\n",
      "Requirement already satisfied: numpy>=1.16.5 in /usr/local/Cellar/jupyterlab/2.2.9_1/libexec/lib/python3.9/site-packages (from scipy) (1.20.1)\n",
      "\u001b[33mWARNING: You are using pip version 20.2.4; however, version 21.0.1 is available.\n",
      "You should consider upgrading via the '/usr/local/Cellar/jupyterlab/2.2.9_1/libexec/bin/python -m pip install --upgrade pip' command.\u001b[0m\n"
     ]
    }
   ],
   "source": [
    "import sys\n",
    "!{sys.executable} -m pip install numpy\n",
    "!{sys.executable} -m pip install matplotlib\n",
    "!{sys.executable} -m pip install scipy"
   ]
  },
  {
   "cell_type": "code",
   "execution_count": 6,
   "metadata": {},
   "outputs": [],
   "source": [
    "import matplotlib.pyplot as plt\n",
    "import numpy as np"
   ]
  },
  {
   "cell_type": "markdown",
   "metadata": {},
   "source": [
    "### Definicja funkcji f(x):"
   ]
  },
  {
   "cell_type": "code",
   "execution_count": 26,
   "metadata": {},
   "outputs": [
    {
     "data": {
      "image/png": "[encoded data removed]",
      "text/plain": [
       "<Figure size 432x288 with 1 Axes>"
      ]
     },
     "metadata": {
      "needs_background": "light"
     },
     "output_type": "display_data"
    }
   ],
   "source": [
    "def fun(x):\n",
    "    #return(x**3 - 2*x**2 -3)\n",
    "    return (x**2 - 10*x +10)\n",
    "\n",
    "plt.figure()\n",
    "x=np.linspace(-1,5,num=100)\n",
    "y=fun(x)\n",
    "plt.plot(x,y)\n",
    "plt.grid()\n",
    "step=0"
   ]
  },
  {
   "cell_type": "code",
   "execution_count": 27,
   "metadata": {},
   "outputs": [],
   "source": [
    "def linear(x1,y1,x2,y2,x):\n",
    "    return y1+((y2-y1)/(x2-x1))*(x-x1)"
   ]
  },
  {
   "cell_type": "markdown",
   "metadata": {},
   "source": [
    "### Definicja funkcji regula falsi:"
   ]
  },
  {
   "cell_type": "markdown",
   "metadata": {},
   "source": [
    "$$x_{1}=a-\\frac{f(a)}{f(b)-f(a)} (b-a)$$"
   ]
  },
  {
   "cell_type": "code",
   "execution_count": 31,
   "metadata": {},
   "outputs": [],
   "source": [
    "def regulaFalsi(x0,x1,e):\n",
    "    plt.figure()\n",
    "    x=np.linspace(-20,5,num=100)\n",
    "    y=fun(x)\n",
    "    plt.plot(x,y)\n",
    "    plt.grid()\n",
    "    step = 1\n",
    "    print('\\n Iteracje metody Regula Falsi')\n",
    "    condition = True\n",
    "    plt.scatter(x0,fun(x0),facecolor='red')\n",
    "    plt.plot(x,linear(x1,fun(x1),x0,fun(x0),x))\n",
    "    while condition:\n",
    "\n",
    "        x2 = x0 - (x1-x0) * fun(x0)/(fun(x1) - fun(x0))\n",
    "        print('Iteracja-%d, x2 = %0.6f and f(x2) = \\\n",
    "        %0.6f'% (step, x2, fun(x2)))\n",
    "\n",
    "        plt.scatter(x2,fun(x2),facecolor='red')\n",
    "        plt.scatter(x1,fun(x1),facecolor='blue')\n",
    "        plt.plot(x,linear(x1,fun(x1),x2,fun(x2),x))\n",
    "        \n",
    "        if fun(x0) * fun(x2) < 0:\n",
    "            x1 = x2\n",
    "        else:\n",
    "            x0 = x2\n",
    "\n",
    "        \n",
    "        \n",
    "        step = step + 1\n",
    "        condition = abs(fun(x2)) > e\n",
    "\n",
    "    print('\\nMiejsce zerowe: %0.8f' % x2)"
   ]
  },
  {
   "cell_type": "code",
   "execution_count": null,
   "metadata": {},
   "outputs": [],
   "source": []
  },
  {
   "cell_type": "markdown",
   "metadata": {},
   "source": [
    "### Wywołanie funkcji regula falsi:"
   ]
  },
  {
   "cell_type": "code",
   "execution_count": 37,
   "metadata": {},
   "outputs": [
    {
     "name": "stdout",
     "output_type": "stream",
     "text": [
      "\n",
      " Iteracje metody Regula Falsi\n",
      "Iteracja-1, x2 = -10.000000 and f(x2) =         210.000000\n",
      "Iteracja-2, x2 = 3.125000 and f(x2) =         -11.484375\n",
      "Iteracja-3, x2 = 2.444444 and f(x2) =         -8.469136\n",
      "Iteracja-4, x2 = 1.962025 and f(x2) =         -5.770710\n",
      "Iteracja-5, x2 = 1.642105 and f(x2) =         -3.724543\n",
      "Iteracja-6, x2 = 1.439220 and f(x2) =         -2.320847\n",
      "Iteracja-7, x2 = 1.314180 and f(x2) =         -1.414729\n",
      "Iteracja-8, x2 = 1.238468 and f(x2) =         -0.850880\n",
      "Iteracja-9, x2 = 1.193116 and f(x2) =         -0.507634\n",
      "Iteracja-10, x2 = 1.166124 and f(x2) =         -0.301395\n",
      "Iteracja-11, x2 = 1.150121 and f(x2) =         -0.178434\n",
      "Iteracja-12, x2 = 1.140655 and f(x2) =         -0.105458\n",
      "Iteracja-13, x2 = 1.135063 and f(x2) =         -0.062265\n",
      "Iteracja-14, x2 = 1.131763 and f(x2) =         -0.036741\n",
      "\n",
      "Miejsce zerowe: 1.13176283\n"
     ]
    },
    {
     "data": {
      "image/png": "[encoded data removed]",
      "text/plain": [
       "<Figure size 432x288 with 1 Axes>"
      ]
     },
     "metadata": {
      "needs_background": "light"
     },
     "output_type": "display_data"
    }
   ],
   "source": [
    "import matplotlib.pyplot as plt\n",
    "wynik = regulaFalsi(4, 5, 0.06)"
   ]
  },
  {
   "cell_type": "markdown",
   "metadata": {},
   "source": [
    "### Zastosowanie funkcji root z pakietu numpy"
   ]
  },
  {
   "cell_type": "code",
   "execution_count": 36,
   "metadata": {},
   "outputs": [
    {
     "name": "stdout",
     "output_type": "stream",
     "text": [
      "[8.87298335 1.12701665]\n"
     ]
    }
   ],
   "source": [
    "coef=[1,-10,10]\n",
    "print(np.roots(coef))"
   ]
  },
  {
   "cell_type": "code",
   "execution_count": null,
   "metadata": {},
   "outputs": [],
   "source": []
  }
 ],
 "metadata": {
  "kernelspec": {
   "display_name": "Python 3",
   "language": "python",
   "name": "python3"
  },
  "language_info": {
   "codemirror_mode": {
    "name": "ipython",
    "version": 3
   },
   "file_extension": ".py",
   "mimetype": "text/x-python",
   "name": "python",
   "nbconvert_exporter": "python",
   "pygments_lexer": "ipython3",
   "version": "3.9.0"
  }
 },
 "nbformat": 4,
 "nbformat_minor": 4
}
